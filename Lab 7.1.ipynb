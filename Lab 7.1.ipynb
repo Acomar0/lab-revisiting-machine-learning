{
 "cells": [
  {
   "cell_type": "code",
   "execution_count": 94,
   "id": "3fd43ba1",
   "metadata": {},
   "outputs": [],
   "source": [
    "import pandas as pd\n",
    "import numpy as np\n",
    "import matplotlib.pyplot as plt\n",
    "import seaborn as sns \n",
    "pd.set_option('display.max_columns', None)"
   ]
  },
  {
   "cell_type": "code",
   "execution_count": 95,
   "id": "43cab7fe",
   "metadata": {},
   "outputs": [
    {
     "name": "stderr",
     "output_type": "stream",
     "text": [
      "C:\\Users\\hugoa\\AppData\\Local\\Temp\\ipykernel_18392\\2510048271.py:1: DtypeWarning: Columns (8) have mixed types. Specify dtype option on import or set low_memory=False.\n",
      "  data = pd.read_csv('../learningSet.csv')\n"
     ]
    }
   ],
   "source": [
    "data = pd.read_csv('../learningSet.csv')"
   ]
  },
  {
   "cell_type": "markdown",
   "id": "a49553f7",
   "metadata": {},
   "source": [
    "## Check for null values in all the columns"
   ]
  },
  {
   "cell_type": "code",
   "execution_count": 96,
   "id": "547846fc",
   "metadata": {},
   "outputs": [
    {
     "data": {
      "text/html": [
       "<div>\n",
       "<style scoped>\n",
       "    .dataframe tbody tr th:only-of-type {\n",
       "        vertical-align: middle;\n",
       "    }\n",
       "\n",
       "    .dataframe tbody tr th {\n",
       "        vertical-align: top;\n",
       "    }\n",
       "\n",
       "    .dataframe thead th {\n",
       "        text-align: right;\n",
       "    }\n",
       "</style>\n",
       "<table border=\"1\" class=\"dataframe\">\n",
       "  <thead>\n",
       "    <tr style=\"text-align: right;\">\n",
       "      <th></th>\n",
       "      <th>column_name</th>\n",
       "      <th>nulls_count</th>\n",
       "    </tr>\n",
       "  </thead>\n",
       "  <tbody>\n",
       "    <tr>\n",
       "      <th>0</th>\n",
       "      <td>ODATEDW</td>\n",
       "      <td>0</td>\n",
       "    </tr>\n",
       "    <tr>\n",
       "      <th>1</th>\n",
       "      <td>OSOURCE</td>\n",
       "      <td>0</td>\n",
       "    </tr>\n",
       "    <tr>\n",
       "      <th>2</th>\n",
       "      <td>TCODE</td>\n",
       "      <td>0</td>\n",
       "    </tr>\n",
       "    <tr>\n",
       "      <th>3</th>\n",
       "      <td>STATE</td>\n",
       "      <td>0</td>\n",
       "    </tr>\n",
       "    <tr>\n",
       "      <th>4</th>\n",
       "      <td>ZIP</td>\n",
       "      <td>0</td>\n",
       "    </tr>\n",
       "    <tr>\n",
       "      <th>...</th>\n",
       "      <td>...</td>\n",
       "      <td>...</td>\n",
       "    </tr>\n",
       "    <tr>\n",
       "      <th>476</th>\n",
       "      <td>MDMAUD_R</td>\n",
       "      <td>0</td>\n",
       "    </tr>\n",
       "    <tr>\n",
       "      <th>477</th>\n",
       "      <td>MDMAUD_F</td>\n",
       "      <td>0</td>\n",
       "    </tr>\n",
       "    <tr>\n",
       "      <th>478</th>\n",
       "      <td>MDMAUD_A</td>\n",
       "      <td>0</td>\n",
       "    </tr>\n",
       "    <tr>\n",
       "      <th>479</th>\n",
       "      <td>CLUSTER2</td>\n",
       "      <td>132</td>\n",
       "    </tr>\n",
       "    <tr>\n",
       "      <th>480</th>\n",
       "      <td>GEOCODE2</td>\n",
       "      <td>132</td>\n",
       "    </tr>\n",
       "  </tbody>\n",
       "</table>\n",
       "<p>481 rows × 2 columns</p>\n",
       "</div>"
      ],
      "text/plain": [
       "    column_name  nulls_count\n",
       "0       ODATEDW            0\n",
       "1       OSOURCE            0\n",
       "2         TCODE            0\n",
       "3         STATE            0\n",
       "4           ZIP            0\n",
       "..          ...          ...\n",
       "476    MDMAUD_R            0\n",
       "477    MDMAUD_F            0\n",
       "478    MDMAUD_A            0\n",
       "479    CLUSTER2          132\n",
       "480    GEOCODE2          132\n",
       "\n",
       "[481 rows x 2 columns]"
      ]
     },
     "execution_count": 96,
     "metadata": {},
     "output_type": "execute_result"
    }
   ],
   "source": [
    "nulls_count_df = pd.DataFrame(data.isna().sum()).reset_index()\n",
    "nulls_count_df.columns = ['column_name', 'nulls_count']\n",
    "nulls_count_df"
   ]
  },
  {
   "cell_type": "markdown",
   "id": "92e15100",
   "metadata": {},
   "source": [
    "Exclude the following variables by looking at the definitions. Create a new empty list called drop_list. We will append this list and then drop all the columns in this list later:\n",
    "\n",
    "OSOURCE - symbol definitions not provided, too many categories\n",
    "\n",
    "ZIP CODE - we are including state already"
   ]
  },
  {
   "cell_type": "code",
   "execution_count": 97,
   "id": "5f1b85ee",
   "metadata": {},
   "outputs": [],
   "source": [
    "drop_list = []"
   ]
  },
  {
   "cell_type": "markdown",
   "id": "86e8727c",
   "metadata": {},
   "source": [
    "## Identify columns that over 85% missing values"
   ]
  },
  {
   "cell_type": "code",
   "execution_count": 98,
   "id": "c5000c9d",
   "metadata": {},
   "outputs": [],
   "source": [
    "def perc_threshold(data, p=0.85):\n",
    "\n",
    "    nulls_percent_df = pd.DataFrame(data.isna().sum()/len(data)).reset_index()\n",
    "    nulls_percent_df.columns = ['column_name', 'nulls_percentage']\n",
    "    columns_above_threshold = nulls_percent_df[nulls_percent_df['nulls_percentage']>p]\n",
    "    print(len (list(columns_above_threshold['column_name'])))\n",
    "    return list(columns_above_threshold['column_name'])"
   ]
  },
  {
   "cell_type": "code",
   "execution_count": 99,
   "id": "c7c5144e",
   "metadata": {},
   "outputs": [
    {
     "name": "stdout",
     "output_type": "stream",
     "text": [
      "25\n"
     ]
    },
    {
     "data": {
      "text/plain": [
       "['NUMCHLD',\n",
       " 'RDATE_3',\n",
       " 'RDATE_4',\n",
       " 'RDATE_5',\n",
       " 'RDATE_6',\n",
       " 'RDATE_7',\n",
       " 'RDATE_10',\n",
       " 'RDATE_13',\n",
       " 'RDATE_15',\n",
       " 'RDATE_17',\n",
       " 'RDATE_20',\n",
       " 'RDATE_21',\n",
       " 'RDATE_23',\n",
       " 'RAMNT_3',\n",
       " 'RAMNT_4',\n",
       " 'RAMNT_5',\n",
       " 'RAMNT_6',\n",
       " 'RAMNT_7',\n",
       " 'RAMNT_10',\n",
       " 'RAMNT_13',\n",
       " 'RAMNT_15',\n",
       " 'RAMNT_17',\n",
       " 'RAMNT_20',\n",
       " 'RAMNT_21',\n",
       " 'RAMNT_23']"
      ]
     },
     "execution_count": 99,
     "metadata": {},
     "output_type": "execute_result"
    }
   ],
   "source": [
    "cols_to_remove=perc_threshold(data)\n",
    "cols_to_remove"
   ]
  },
  {
   "cell_type": "markdown",
   "id": "b2d13a2c",
   "metadata": {},
   "source": [
    "## Remove those columns from the dataframe"
   ]
  },
  {
   "cell_type": "code",
   "execution_count": 100,
   "id": "cec7bb44",
   "metadata": {},
   "outputs": [],
   "source": [
    "l=[\"OSOURCE\", \"ZIP\"]\n",
    "cols_to_remove.extend(l)\n"
   ]
  },
  {
   "cell_type": "code",
   "execution_count": 101,
   "id": "b9f69d46",
   "metadata": {},
   "outputs": [],
   "source": [
    "data_cleaned = data.drop(columns=cols_to_remove)"
   ]
  },
  {
   "cell_type": "markdown",
   "id": "0749e9c4",
   "metadata": {},
   "source": [
    "## Reduce the number of categories in the column GENDER. The column should only have either \"M\" for males, \"F\" for females, and \"other\" for all the rest"
   ]
  },
  {
   "cell_type": "code",
   "execution_count": 102,
   "id": "16873dc1",
   "metadata": {},
   "outputs": [
    {
     "data": {
      "text/html": [
       "<div>\n",
       "<style scoped>\n",
       "    .dataframe tbody tr th:only-of-type {\n",
       "        vertical-align: middle;\n",
       "    }\n",
       "\n",
       "    .dataframe tbody tr th {\n",
       "        vertical-align: top;\n",
       "    }\n",
       "\n",
       "    .dataframe thead th {\n",
       "        text-align: right;\n",
       "    }\n",
       "</style>\n",
       "<table border=\"1\" class=\"dataframe\">\n",
       "  <thead>\n",
       "    <tr style=\"text-align: right;\">\n",
       "      <th></th>\n",
       "      <th>STATE</th>\n",
       "      <th>MAILCODE</th>\n",
       "      <th>PVASTATE</th>\n",
       "      <th>NOEXCH</th>\n",
       "      <th>RECINHSE</th>\n",
       "      <th>RECP3</th>\n",
       "      <th>RECPGVG</th>\n",
       "      <th>RECSWEEP</th>\n",
       "      <th>MDMAUD</th>\n",
       "      <th>DOMAIN</th>\n",
       "      <th>CLUSTER</th>\n",
       "      <th>AGEFLAG</th>\n",
       "      <th>HOMEOWNR</th>\n",
       "      <th>CHILD03</th>\n",
       "      <th>CHILD07</th>\n",
       "      <th>CHILD12</th>\n",
       "      <th>CHILD18</th>\n",
       "      <th>GENDER</th>\n",
       "      <th>DATASRCE</th>\n",
       "      <th>SOLP3</th>\n",
       "      <th>SOLIH</th>\n",
       "      <th>MAJOR</th>\n",
       "      <th>GEOCODE</th>\n",
       "      <th>COLLECT1</th>\n",
       "      <th>VETERANS</th>\n",
       "      <th>BIBLE</th>\n",
       "      <th>CATLG</th>\n",
       "      <th>HOMEE</th>\n",
       "      <th>PETS</th>\n",
       "      <th>CDPLAY</th>\n",
       "      <th>STEREO</th>\n",
       "      <th>PCOWNERS</th>\n",
       "      <th>PHOTO</th>\n",
       "      <th>CRAFTS</th>\n",
       "      <th>FISHER</th>\n",
       "      <th>GARDENIN</th>\n",
       "      <th>BOATS</th>\n",
       "      <th>WALKER</th>\n",
       "      <th>KIDSTUFF</th>\n",
       "      <th>CARDS</th>\n",
       "      <th>PLATES</th>\n",
       "      <th>LIFESRC</th>\n",
       "      <th>PEPSTRFL</th>\n",
       "      <th>RFA_2</th>\n",
       "      <th>RFA_3</th>\n",
       "      <th>RFA_4</th>\n",
       "      <th>RFA_5</th>\n",
       "      <th>RFA_6</th>\n",
       "      <th>RFA_7</th>\n",
       "      <th>RFA_8</th>\n",
       "      <th>RFA_9</th>\n",
       "      <th>RFA_10</th>\n",
       "      <th>RFA_11</th>\n",
       "      <th>RFA_12</th>\n",
       "      <th>RFA_13</th>\n",
       "      <th>RFA_14</th>\n",
       "      <th>RFA_15</th>\n",
       "      <th>RFA_16</th>\n",
       "      <th>RFA_17</th>\n",
       "      <th>RFA_18</th>\n",
       "      <th>RFA_19</th>\n",
       "      <th>RFA_20</th>\n",
       "      <th>RFA_21</th>\n",
       "      <th>RFA_22</th>\n",
       "      <th>RFA_23</th>\n",
       "      <th>RFA_24</th>\n",
       "      <th>RFA_2R</th>\n",
       "      <th>RFA_2A</th>\n",
       "      <th>MDMAUD_R</th>\n",
       "      <th>MDMAUD_F</th>\n",
       "      <th>MDMAUD_A</th>\n",
       "      <th>GEOCODE2</th>\n",
       "    </tr>\n",
       "  </thead>\n",
       "  <tbody>\n",
       "    <tr>\n",
       "      <th>0</th>\n",
       "      <td>IL</td>\n",
       "      <td></td>\n",
       "      <td></td>\n",
       "      <td>0</td>\n",
       "      <td></td>\n",
       "      <td></td>\n",
       "      <td></td>\n",
       "      <td></td>\n",
       "      <td>XXXX</td>\n",
       "      <td>T2</td>\n",
       "      <td>36</td>\n",
       "      <td></td>\n",
       "      <td></td>\n",
       "      <td></td>\n",
       "      <td></td>\n",
       "      <td></td>\n",
       "      <td></td>\n",
       "      <td>F</td>\n",
       "      <td></td>\n",
       "      <td></td>\n",
       "      <td></td>\n",
       "      <td></td>\n",
       "      <td></td>\n",
       "      <td></td>\n",
       "      <td></td>\n",
       "      <td></td>\n",
       "      <td></td>\n",
       "      <td></td>\n",
       "      <td></td>\n",
       "      <td></td>\n",
       "      <td></td>\n",
       "      <td></td>\n",
       "      <td></td>\n",
       "      <td></td>\n",
       "      <td></td>\n",
       "      <td></td>\n",
       "      <td></td>\n",
       "      <td></td>\n",
       "      <td></td>\n",
       "      <td></td>\n",
       "      <td></td>\n",
       "      <td></td>\n",
       "      <td>X</td>\n",
       "      <td>L4E</td>\n",
       "      <td>S4E</td>\n",
       "      <td>S4E</td>\n",
       "      <td>S4E</td>\n",
       "      <td>S4E</td>\n",
       "      <td>S4E</td>\n",
       "      <td>S4E</td>\n",
       "      <td>S4E</td>\n",
       "      <td>S4E</td>\n",
       "      <td>S4E</td>\n",
       "      <td>S4E</td>\n",
       "      <td>S4E</td>\n",
       "      <td>S4E</td>\n",
       "      <td>S4E</td>\n",
       "      <td>S4E</td>\n",
       "      <td>S4E</td>\n",
       "      <td>S4E</td>\n",
       "      <td>S4E</td>\n",
       "      <td>S4E</td>\n",
       "      <td>S4E</td>\n",
       "      <td>S4E</td>\n",
       "      <td>S4E</td>\n",
       "      <td>S4E</td>\n",
       "      <td>L</td>\n",
       "      <td>E</td>\n",
       "      <td>X</td>\n",
       "      <td>X</td>\n",
       "      <td>X</td>\n",
       "      <td>C</td>\n",
       "    </tr>\n",
       "    <tr>\n",
       "      <th>1</th>\n",
       "      <td>CA</td>\n",
       "      <td></td>\n",
       "      <td></td>\n",
       "      <td>0</td>\n",
       "      <td></td>\n",
       "      <td></td>\n",
       "      <td></td>\n",
       "      <td></td>\n",
       "      <td>XXXX</td>\n",
       "      <td>S1</td>\n",
       "      <td>14</td>\n",
       "      <td>E</td>\n",
       "      <td>H</td>\n",
       "      <td></td>\n",
       "      <td></td>\n",
       "      <td></td>\n",
       "      <td>M</td>\n",
       "      <td>M</td>\n",
       "      <td>3</td>\n",
       "      <td></td>\n",
       "      <td></td>\n",
       "      <td></td>\n",
       "      <td>2</td>\n",
       "      <td></td>\n",
       "      <td></td>\n",
       "      <td></td>\n",
       "      <td></td>\n",
       "      <td></td>\n",
       "      <td></td>\n",
       "      <td></td>\n",
       "      <td></td>\n",
       "      <td></td>\n",
       "      <td></td>\n",
       "      <td></td>\n",
       "      <td></td>\n",
       "      <td></td>\n",
       "      <td></td>\n",
       "      <td></td>\n",
       "      <td></td>\n",
       "      <td></td>\n",
       "      <td></td>\n",
       "      <td></td>\n",
       "      <td></td>\n",
       "      <td>L2G</td>\n",
       "      <td>A2G</td>\n",
       "      <td>A2G</td>\n",
       "      <td>A2G</td>\n",
       "      <td>A2G</td>\n",
       "      <td>A1E</td>\n",
       "      <td>A1E</td>\n",
       "      <td>A1E</td>\n",
       "      <td>A1E</td>\n",
       "      <td>A1E</td>\n",
       "      <td>A1E</td>\n",
       "      <td></td>\n",
       "      <td></td>\n",
       "      <td></td>\n",
       "      <td>L1E</td>\n",
       "      <td></td>\n",
       "      <td></td>\n",
       "      <td>N1E</td>\n",
       "      <td>N1E</td>\n",
       "      <td>N1E</td>\n",
       "      <td>N1E</td>\n",
       "      <td></td>\n",
       "      <td>F1E</td>\n",
       "      <td>L</td>\n",
       "      <td>G</td>\n",
       "      <td>X</td>\n",
       "      <td>X</td>\n",
       "      <td>X</td>\n",
       "      <td>A</td>\n",
       "    </tr>\n",
       "    <tr>\n",
       "      <th>2</th>\n",
       "      <td>NC</td>\n",
       "      <td></td>\n",
       "      <td></td>\n",
       "      <td>0</td>\n",
       "      <td></td>\n",
       "      <td></td>\n",
       "      <td></td>\n",
       "      <td></td>\n",
       "      <td>XXXX</td>\n",
       "      <td>R2</td>\n",
       "      <td>43</td>\n",
       "      <td></td>\n",
       "      <td>U</td>\n",
       "      <td></td>\n",
       "      <td></td>\n",
       "      <td></td>\n",
       "      <td></td>\n",
       "      <td>M</td>\n",
       "      <td>3</td>\n",
       "      <td></td>\n",
       "      <td></td>\n",
       "      <td></td>\n",
       "      <td></td>\n",
       "      <td></td>\n",
       "      <td></td>\n",
       "      <td></td>\n",
       "      <td></td>\n",
       "      <td></td>\n",
       "      <td></td>\n",
       "      <td></td>\n",
       "      <td></td>\n",
       "      <td></td>\n",
       "      <td></td>\n",
       "      <td></td>\n",
       "      <td></td>\n",
       "      <td></td>\n",
       "      <td></td>\n",
       "      <td></td>\n",
       "      <td></td>\n",
       "      <td></td>\n",
       "      <td></td>\n",
       "      <td></td>\n",
       "      <td>X</td>\n",
       "      <td>L4E</td>\n",
       "      <td>S4E</td>\n",
       "      <td>S4E</td>\n",
       "      <td>S4E</td>\n",
       "      <td>S4E</td>\n",
       "      <td>S4F</td>\n",
       "      <td>S4F</td>\n",
       "      <td>S4F</td>\n",
       "      <td></td>\n",
       "      <td>S4F</td>\n",
       "      <td>S4F</td>\n",
       "      <td>S4F</td>\n",
       "      <td>S4F</td>\n",
       "      <td>S4F</td>\n",
       "      <td>S4F</td>\n",
       "      <td></td>\n",
       "      <td>S4D</td>\n",
       "      <td>S4D</td>\n",
       "      <td></td>\n",
       "      <td></td>\n",
       "      <td>S4D</td>\n",
       "      <td>S4D</td>\n",
       "      <td>S3D</td>\n",
       "      <td>L</td>\n",
       "      <td>E</td>\n",
       "      <td>X</td>\n",
       "      <td>X</td>\n",
       "      <td>X</td>\n",
       "      <td>C</td>\n",
       "    </tr>\n",
       "    <tr>\n",
       "      <th>3</th>\n",
       "      <td>CA</td>\n",
       "      <td></td>\n",
       "      <td></td>\n",
       "      <td>0</td>\n",
       "      <td></td>\n",
       "      <td></td>\n",
       "      <td></td>\n",
       "      <td></td>\n",
       "      <td>XXXX</td>\n",
       "      <td>R2</td>\n",
       "      <td>44</td>\n",
       "      <td>E</td>\n",
       "      <td>U</td>\n",
       "      <td></td>\n",
       "      <td></td>\n",
       "      <td></td>\n",
       "      <td></td>\n",
       "      <td>F</td>\n",
       "      <td>3</td>\n",
       "      <td></td>\n",
       "      <td></td>\n",
       "      <td></td>\n",
       "      <td></td>\n",
       "      <td></td>\n",
       "      <td></td>\n",
       "      <td></td>\n",
       "      <td></td>\n",
       "      <td></td>\n",
       "      <td></td>\n",
       "      <td></td>\n",
       "      <td></td>\n",
       "      <td></td>\n",
       "      <td></td>\n",
       "      <td></td>\n",
       "      <td></td>\n",
       "      <td></td>\n",
       "      <td></td>\n",
       "      <td></td>\n",
       "      <td></td>\n",
       "      <td></td>\n",
       "      <td></td>\n",
       "      <td></td>\n",
       "      <td>X</td>\n",
       "      <td>L4E</td>\n",
       "      <td>S4E</td>\n",
       "      <td>S4E</td>\n",
       "      <td>S4E</td>\n",
       "      <td>S4E</td>\n",
       "      <td>S4E</td>\n",
       "      <td>S4E</td>\n",
       "      <td>S4E</td>\n",
       "      <td></td>\n",
       "      <td>S4E</td>\n",
       "      <td>S4E</td>\n",
       "      <td>S4E</td>\n",
       "      <td>S4E</td>\n",
       "      <td>S4E</td>\n",
       "      <td>S4E</td>\n",
       "      <td>S2D</td>\n",
       "      <td>S2D</td>\n",
       "      <td>A1D</td>\n",
       "      <td>A1D</td>\n",
       "      <td>A1D</td>\n",
       "      <td>A1D</td>\n",
       "      <td></td>\n",
       "      <td></td>\n",
       "      <td>L</td>\n",
       "      <td>E</td>\n",
       "      <td>X</td>\n",
       "      <td>X</td>\n",
       "      <td>X</td>\n",
       "      <td>C</td>\n",
       "    </tr>\n",
       "    <tr>\n",
       "      <th>4</th>\n",
       "      <td>FL</td>\n",
       "      <td></td>\n",
       "      <td></td>\n",
       "      <td>0</td>\n",
       "      <td>X</td>\n",
       "      <td>X</td>\n",
       "      <td></td>\n",
       "      <td></td>\n",
       "      <td>XXXX</td>\n",
       "      <td>S2</td>\n",
       "      <td>16</td>\n",
       "      <td>E</td>\n",
       "      <td>H</td>\n",
       "      <td></td>\n",
       "      <td></td>\n",
       "      <td></td>\n",
       "      <td></td>\n",
       "      <td>F</td>\n",
       "      <td>3</td>\n",
       "      <td></td>\n",
       "      <td>12</td>\n",
       "      <td></td>\n",
       "      <td></td>\n",
       "      <td></td>\n",
       "      <td></td>\n",
       "      <td>Y</td>\n",
       "      <td>Y</td>\n",
       "      <td></td>\n",
       "      <td></td>\n",
       "      <td></td>\n",
       "      <td>Y</td>\n",
       "      <td></td>\n",
       "      <td></td>\n",
       "      <td>Y</td>\n",
       "      <td></td>\n",
       "      <td>Y</td>\n",
       "      <td></td>\n",
       "      <td>Y</td>\n",
       "      <td></td>\n",
       "      <td>Y</td>\n",
       "      <td></td>\n",
       "      <td>3</td>\n",
       "      <td></td>\n",
       "      <td>L2F</td>\n",
       "      <td>A2F</td>\n",
       "      <td>A2F</td>\n",
       "      <td>A2F</td>\n",
       "      <td>A1D</td>\n",
       "      <td>I2D</td>\n",
       "      <td>A1E</td>\n",
       "      <td>A1E</td>\n",
       "      <td>L1D</td>\n",
       "      <td>A1E</td>\n",
       "      <td>A1E</td>\n",
       "      <td>L1D</td>\n",
       "      <td>L3D</td>\n",
       "      <td></td>\n",
       "      <td>L3D</td>\n",
       "      <td>A2D</td>\n",
       "      <td>A2D</td>\n",
       "      <td>A3D</td>\n",
       "      <td>A3D</td>\n",
       "      <td>A3D</td>\n",
       "      <td>I4E</td>\n",
       "      <td>A3D</td>\n",
       "      <td>A3D</td>\n",
       "      <td>L</td>\n",
       "      <td>F</td>\n",
       "      <td>X</td>\n",
       "      <td>X</td>\n",
       "      <td>X</td>\n",
       "      <td>A</td>\n",
       "    </tr>\n",
       "  </tbody>\n",
       "</table>\n",
       "</div>"
      ],
      "text/plain": [
       "  STATE MAILCODE PVASTATE NOEXCH RECINHSE RECP3 RECPGVG RECSWEEP MDMAUD  \\\n",
       "0    IL                        0                                   XXXX   \n",
       "1    CA                        0                                   XXXX   \n",
       "2    NC                        0                                   XXXX   \n",
       "3    CA                        0                                   XXXX   \n",
       "4    FL                        0        X     X                    XXXX   \n",
       "\n",
       "  DOMAIN CLUSTER AGEFLAG HOMEOWNR CHILD03 CHILD07 CHILD12 CHILD18 GENDER  \\\n",
       "0     T2      36                                                       F   \n",
       "1     S1      14       E        H                               M      M   \n",
       "2     R2      43                U                                      M   \n",
       "3     R2      44       E        U                                      F   \n",
       "4     S2      16       E        H                                      F   \n",
       "\n",
       "  DATASRCE SOLP3 SOLIH MAJOR GEOCODE COLLECT1 VETERANS BIBLE CATLG HOMEE PETS  \\\n",
       "0                                                                               \n",
       "1        3                         2                                            \n",
       "2        3                                                                      \n",
       "3        3                                                                      \n",
       "4        3          12                                     Y     Y              \n",
       "\n",
       "  CDPLAY STEREO PCOWNERS PHOTO CRAFTS FISHER GARDENIN BOATS WALKER KIDSTUFF  \\\n",
       "0                                                                             \n",
       "1                                                                             \n",
       "2                                                                             \n",
       "3                                                                             \n",
       "4             Y                     Y               Y            Y            \n",
       "\n",
       "  CARDS PLATES LIFESRC PEPSTRFL RFA_2 RFA_3 RFA_4 RFA_5 RFA_6 RFA_7 RFA_8  \\\n",
       "0                             X   L4E   S4E   S4E   S4E   S4E   S4E   S4E   \n",
       "1                                 L2G   A2G   A2G   A2G   A2G   A1E   A1E   \n",
       "2                             X   L4E   S4E   S4E   S4E   S4E   S4F   S4F   \n",
       "3                             X   L4E   S4E   S4E   S4E   S4E   S4E   S4E   \n",
       "4     Y              3            L2F   A2F   A2F   A2F   A1D   I2D   A1E   \n",
       "\n",
       "  RFA_9 RFA_10 RFA_11 RFA_12 RFA_13 RFA_14 RFA_15 RFA_16 RFA_17 RFA_18 RFA_19  \\\n",
       "0   S4E    S4E    S4E    S4E    S4E    S4E    S4E    S4E    S4E    S4E    S4E   \n",
       "1   A1E    A1E    A1E    A1E                         L1E                  N1E   \n",
       "2   S4F           S4F    S4F    S4F    S4F    S4F    S4F           S4D    S4D   \n",
       "3   S4E           S4E    S4E    S4E    S4E    S4E    S4E    S2D    S2D    A1D   \n",
       "4   A1E    L1D    A1E    A1E    L1D    L3D           L3D    A2D    A2D    A3D   \n",
       "\n",
       "  RFA_20 RFA_21 RFA_22 RFA_23 RFA_24 RFA_2R RFA_2A MDMAUD_R MDMAUD_F MDMAUD_A  \\\n",
       "0    S4E    S4E    S4E    S4E    S4E      L      E        X        X        X   \n",
       "1    N1E    N1E    N1E           F1E      L      G        X        X        X   \n",
       "2                  S4D    S4D    S3D      L      E        X        X        X   \n",
       "3    A1D    A1D    A1D                    L      E        X        X        X   \n",
       "4    A3D    A3D    I4E    A3D    A3D      L      F        X        X        X   \n",
       "\n",
       "  GEOCODE2  \n",
       "0        C  \n",
       "1        A  \n",
       "2        C  \n",
       "3        C  \n",
       "4        A  "
      ]
     },
     "execution_count": 102,
     "metadata": {},
     "output_type": "execute_result"
    }
   ],
   "source": [
    "categorical = data_cleaned.select_dtypes([object])\n",
    "categorical.head()"
   ]
  },
  {
   "cell_type": "code",
   "execution_count": 103,
   "id": "b21c4492",
   "metadata": {},
   "outputs": [
    {
     "name": "stdout",
     "output_type": "stream",
     "text": [
      "F    51277\n",
      "M    39094\n",
      "      2957\n",
      "U     1715\n",
      "J      365\n",
      "C        2\n",
      "A        2\n",
      "Name: GENDER, dtype: int64\n"
     ]
    }
   ],
   "source": [
    "categorical['GENDER'] = categorical['GENDER'].fillna('F')\n",
    "print(categorical['GENDER'].value_counts())"
   ]
  },
  {
   "cell_type": "code",
   "execution_count": 104,
   "id": "71d095c0",
   "metadata": {},
   "outputs": [
    {
     "data": {
      "text/plain": [
       "array(['F', 'M', 'other'], dtype=object)"
      ]
     },
     "execution_count": 104,
     "metadata": {},
     "output_type": "execute_result"
    }
   ],
   "source": [
    "def clean_gender(x):\n",
    "    for value in range(len(x)):\n",
    "        if \"F\" in x:\n",
    "            return \"F\"\n",
    "        elif \"M\" in x:\n",
    "            return \"M\"\n",
    "        elif \" \" in x:\n",
    "            return \"F\"\n",
    "        else:\n",
    "            return \"other\"\n",
    "categorical[\"GENDER\"]=categorical[\"GENDER\"].apply(clean_gender)\n",
    "\n",
    "categorical[\"GENDER\"].unique()"
   ]
  },
  {
   "cell_type": "markdown",
   "id": "e0fe9adf",
   "metadata": {},
   "source": [
    "# Lab | Feature engineering"
   ]
  },
  {
   "cell_type": "markdown",
   "id": "17c6aa72",
   "metadata": {},
   "source": [
    "Check for null values in the numerical columns"
   ]
  },
  {
   "cell_type": "code",
   "execution_count": 105,
   "id": "e1f3ae1a",
   "metadata": {},
   "outputs": [],
   "source": [
    "numerical = data.select_dtypes(np.number)\n",
    "nulls_percent_df=pd.DataFrame(numerical.isna().sum()/len(numerical)).reset_index()"
   ]
  },
  {
   "cell_type": "code",
   "execution_count": 106,
   "id": "edc13edf",
   "metadata": {},
   "outputs": [],
   "source": [
    "nulls_percent_df.columns = ['column_name', 'nulls_percentage']"
   ]
  },
  {
   "cell_type": "code",
   "execution_count": 107,
   "id": "f36b0f2b",
   "metadata": {},
   "outputs": [
    {
     "data": {
      "text/html": [
       "<div>\n",
       "<style scoped>\n",
       "    .dataframe tbody tr th:only-of-type {\n",
       "        vertical-align: middle;\n",
       "    }\n",
       "\n",
       "    .dataframe tbody tr th {\n",
       "        vertical-align: top;\n",
       "    }\n",
       "\n",
       "    .dataframe thead th {\n",
       "        text-align: right;\n",
       "    }\n",
       "</style>\n",
       "<table border=\"1\" class=\"dataframe\">\n",
       "  <thead>\n",
       "    <tr style=\"text-align: right;\">\n",
       "      <th></th>\n",
       "      <th>column_name</th>\n",
       "      <th>nulls_percentage</th>\n",
       "    </tr>\n",
       "  </thead>\n",
       "  <tbody>\n",
       "    <tr>\n",
       "      <th>4</th>\n",
       "      <td>NUMCHLD</td>\n",
       "      <td>0.870184</td>\n",
       "    </tr>\n",
       "    <tr>\n",
       "      <th>6</th>\n",
       "      <td>WEALTH1</td>\n",
       "      <td>0.468830</td>\n",
       "    </tr>\n",
       "    <tr>\n",
       "      <th>8</th>\n",
       "      <td>MBCRAFT</td>\n",
       "      <td>0.553955</td>\n",
       "    </tr>\n",
       "    <tr>\n",
       "      <th>9</th>\n",
       "      <td>MBGARDEN</td>\n",
       "      <td>0.553955</td>\n",
       "    </tr>\n",
       "    <tr>\n",
       "      <th>10</th>\n",
       "      <td>MBBOOKS</td>\n",
       "      <td>0.553955</td>\n",
       "    </tr>\n",
       "    <tr>\n",
       "      <th>...</th>\n",
       "      <td>...</td>\n",
       "      <td>...</td>\n",
       "    </tr>\n",
       "    <tr>\n",
       "      <th>383</th>\n",
       "      <td>RAMNT_20</td>\n",
       "      <td>0.917327</td>\n",
       "    </tr>\n",
       "    <tr>\n",
       "      <th>384</th>\n",
       "      <td>RAMNT_21</td>\n",
       "      <td>0.900296</td>\n",
       "    </tr>\n",
       "    <tr>\n",
       "      <th>385</th>\n",
       "      <td>RAMNT_22</td>\n",
       "      <td>0.781233</td>\n",
       "    </tr>\n",
       "    <tr>\n",
       "      <th>386</th>\n",
       "      <td>RAMNT_23</td>\n",
       "      <td>0.917631</td>\n",
       "    </tr>\n",
       "    <tr>\n",
       "      <th>387</th>\n",
       "      <td>RAMNT_24</td>\n",
       "      <td>0.814090</td>\n",
       "    </tr>\n",
       "  </tbody>\n",
       "</table>\n",
       "<p>72 rows × 2 columns</p>\n",
       "</div>"
      ],
      "text/plain": [
       "    column_name  nulls_percentage\n",
       "4       NUMCHLD          0.870184\n",
       "6       WEALTH1          0.468830\n",
       "8       MBCRAFT          0.553955\n",
       "9      MBGARDEN          0.553955\n",
       "10      MBBOOKS          0.553955\n",
       "..          ...               ...\n",
       "383    RAMNT_20          0.917327\n",
       "384    RAMNT_21          0.900296\n",
       "385    RAMNT_22          0.781233\n",
       "386    RAMNT_23          0.917631\n",
       "387    RAMNT_24          0.814090\n",
       "\n",
       "[72 rows x 2 columns]"
      ]
     },
     "execution_count": 107,
     "metadata": {},
     "output_type": "execute_result"
    }
   ],
   "source": [
    "\n",
    "nulls_percent_df[nulls_percent_df['nulls_percentage']>0.25]"
   ]
  },
  {
   "cell_type": "markdown",
   "id": "edcbd423",
   "metadata": {},
   "source": [
    "### Use appropriate methods to clean the columns GEOCODE2, WEALTH1, ADI, DMA,and MSA."
   ]
  },
  {
   "cell_type": "code",
   "execution_count": 108,
   "id": "5c5f6158",
   "metadata": {},
   "outputs": [
    {
     "data": {
      "text/plain": [
       "A    34484\n",
       "B    28505\n",
       "D    16580\n",
       "C    15524\n",
       "       187\n",
       "Name: GEOCODE2, dtype: int64"
      ]
     },
     "execution_count": 108,
     "metadata": {},
     "output_type": "execute_result"
    }
   ],
   "source": [
    "# For Geocode\n",
    "data[\"GEOCODE2\"].value_counts()"
   ]
  },
  {
   "cell_type": "code",
   "execution_count": 109,
   "id": "25ab0233",
   "metadata": {},
   "outputs": [
    {
     "data": {
      "text/plain": [
       "array(['C', 'A', 'D', 'B', ' ', nan], dtype=object)"
      ]
     },
     "execution_count": 109,
     "metadata": {},
     "output_type": "execute_result"
    }
   ],
   "source": [
    "data[\"GEOCODE2\"].unique()"
   ]
  },
  {
   "cell_type": "code",
   "execution_count": 110,
   "id": "c3f72630",
   "metadata": {},
   "outputs": [],
   "source": [
    "#Since it is a categorical I will just store the Na into a new category \"other\", although we could also just add them to \"A\""
   ]
  },
  {
   "cell_type": "code",
   "execution_count": 113,
   "id": "01eec96a",
   "metadata": {},
   "outputs": [],
   "source": [
    "data[\"GEOCODE2\"] = data[\"GEOCODE2\"].fillna(\"other\")"
   ]
  },
  {
   "cell_type": "code",
   "execution_count": 114,
   "id": "dcc4674a",
   "metadata": {},
   "outputs": [
    {
     "data": {
      "text/plain": [
       "array(['C', 'A', 'D', 'B', 'other'], dtype=object)"
      ]
     },
     "execution_count": 114,
     "metadata": {},
     "output_type": "execute_result"
    }
   ],
   "source": [
    "def clean_geo(x):\n",
    "    \n",
    "    for value in range(len(x)):\n",
    "        if \" \" in x:\n",
    "            return \"other\"\n",
    "        else:\n",
    "            return x\n",
    "data[\"GEOCODE2\"]=data[\"GEOCODE2\"].apply(clean_geo)\n",
    "\n",
    "data[\"GEOCODE2\"].unique()\n",
    "\n",
    "#I would like to do it all in one step including x.fillna(\"other\") in the function, \n",
    "#but for some reason appears an error adverting that fillna does not work on strings when "
   ]
  },
  {
   "cell_type": "code",
   "execution_count": 46,
   "id": "3e0cd583",
   "metadata": {},
   "outputs": [
    {
     "data": {
      "text/plain": [
       "array([nan,  9.,  1.,  4.,  2.,  6.,  0.,  5.,  8.,  3.,  7.])"
      ]
     },
     "execution_count": 46,
     "metadata": {},
     "output_type": "execute_result"
    }
   ],
   "source": [
    "# For Wealth1\n",
    "data.WEALTH1.unique()"
   ]
  },
  {
   "cell_type": "code",
   "execution_count": 85,
   "id": "e96a1541",
   "metadata": {},
   "outputs": [
    {
     "data": {
      "image/png": "[encoded data removed]",
      "text/plain": [
       "<Figure size 1600x500 with 3 Axes>"
      ]
     },
     "metadata": {},
     "output_type": "display_data"
    }
   ],
   "source": [
    "fig, ax = plt.subplots(1,3,figsize=(16,5))\n",
    "sns.histplot(data[\"WEALTH1\"], ax = ax[0])\n",
    "sns.histplot(data[\"WEALTH1\"].fillna(np.mean(data[\"WEALTH1\"])), ax = ax[1])\n",
    "sns.histplot(data[\"WEALTH1\"].fillna(np.median(data[\"WEALTH1\"])),ax = ax[2])\n",
    "plt.show()\n",
    "#Best option is to fill with the median so that we keep the same distribution\n",
    "data[\"WEALTH1\"]= data[\"WEALTH1\"].fillna(np.median(data[\"WEALTH1\"]))"
   ]
  },
  {
   "cell_type": "code",
   "execution_count": 90,
   "id": "bcebe3bd",
   "metadata": {},
   "outputs": [],
   "source": [
    "# For ADI\n"
   ]
  },
  {
   "cell_type": "code",
   "execution_count": 91,
   "id": "3c17cd64",
   "metadata": {},
   "outputs": [
    {
     "data": {
      "image/png": "[encoded data removed]",
      "text/plain": [
       "<Figure size 1600x500 with 3 Axes>"
      ]
     },
     "metadata": {},
     "output_type": "display_data"
    }
   ],
   "source": [
    "fig, ax = plt.subplots(1,3,figsize=(16,5))\n",
    "sns.histplot(data[\"ADI\"], ax = ax[0])\n",
    "sns.histplot(data[\"ADI\"].fillna(np.mean(data[\"ADI\"])), ax = ax[1])\n",
    "sns.histplot(data[\"ADI\"].fillna(np.median(data[\"ADI\"])),ax = ax[2])\n",
    "plt.show()\n",
    "\n",
    "#I will fill with the median\n",
    "\n",
    "data[\"ADI\"]= data[\"ADI\"].fillna(np.median(data[\"ADI\"]))"
   ]
  },
  {
   "cell_type": "code",
   "execution_count": 89,
   "id": "752821b6",
   "metadata": {},
   "outputs": [],
   "source": [
    "# For DMA"
   ]
  },
  {
   "cell_type": "code",
   "execution_count": 92,
   "id": "5caaefd1",
   "metadata": {},
   "outputs": [
    {
     "data": {
      "image/png": "[encoded data removed]",
      "text/plain": [
       "<Figure size 1600x500 with 3 Axes>"
      ]
     },
     "metadata": {},
     "output_type": "display_data"
    }
   ],
   "source": [
    "fig, ax = plt.subplots(1,3,figsize=(16,5))\n",
    "sns.histplot(data[\"DMA\"], ax = ax[0])\n",
    "sns.histplot(data[\"DMA\"].fillna(np.mean(data[\"DMA\"])), ax = ax[1])\n",
    "sns.histplot(data[\"DMA\"].fillna(np.median(data[\"DMA\"])),ax = ax[2])\n",
    "plt.show()\n",
    "\n",
    "#I will fill with the median\n",
    "\n",
    "data[\"DMA\"]= data[\"DMA\"].fillna(np.median(data[\"DMA\"]))"
   ]
  },
  {
   "cell_type": "code",
   "execution_count": 93,
   "id": "e5c9ed3d",
   "metadata": {},
   "outputs": [
    {
     "data": {
      "image/png": "[encoded data removed]",
      "text/plain": [
       "<Figure size 1600x500 with 3 Axes>"
      ]
     },
     "metadata": {},
     "output_type": "display_data"
    }
   ],
   "source": [
    "fig, ax = plt.subplots(1,3,figsize=(16,5))\n",
    "sns.histplot(data[\"MSA\"], ax = ax[0])\n",
    "sns.histplot(data[\"MSA\"].fillna(np.mean(data[\"MSA\"])), ax = ax[1])\n",
    "sns.histplot(data[\"MSA\"].fillna(np.median(data[\"MSA\"])),ax = ax[2])\n",
    "plt.show()\n",
    "\n",
    "#I will fill with the median\n",
    "\n",
    "data[\"MSA\"]= data[\"MSA\"].fillna(np.median(data[\"MSA\"]))"
   ]
  },
  {
   "cell_type": "code",
   "execution_count": null,
   "id": "e1e873cc",
   "metadata": {},
   "outputs": [],
   "source": []
  },
  {
   "cell_type": "code",
   "execution_count": null,
   "id": "704d4a4e",
   "metadata": {},
   "outputs": [],
   "source": []
  }
 ],
 "metadata": {
  "kernelspec": {
   "display_name": "Python 3 (ipykernel)",
   "language": "python",
   "name": "python3"
  },
  "language_info": {
   "codemirror_mode": {
    "name": "ipython",
    "version": 3
   },
   "file_extension": ".py",
   "mimetype": "text/x-python",
   "name": "python",
   "nbconvert_exporter": "python",
   "pygments_lexer": "ipython3",
   "version": "3.9.13"
  }
 },
 "nbformat": 4,
 "nbformat_minor": 5
}
